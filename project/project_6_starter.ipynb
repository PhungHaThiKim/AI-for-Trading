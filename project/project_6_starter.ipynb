{
 "cells": [
  {
   "cell_type": "markdown",
   "metadata": {},
   "source": [
    "# Project 6: Analyzing Stock Sentiment from Twits\n",
    "## Instructions\n",
    "Each problem consists of a function to implement and instructions on how to implement the function.  The parts of the function that need to be implemented are marked with a `# TODO` comment.\n",
    "\n",
    "## Packages\n",
    "When you implement the functions, you'll only need to you use the packages you've used in the classroom, like [Pandas](https://pandas.pydata.org/) and [Numpy](http://www.numpy.org/). These packages will be imported for you. We recommend you don't add any import statements, otherwise the grader might not be able to run your code.\n",
    "\n",
    "### Load Packages"
   ]
  },
  {
   "cell_type": "code",
   "execution_count": 1,
   "metadata": {},
   "outputs": [],
   "source": [
    "import json\n",
    "import nltk\n",
    "import os\n",
    "import random\n",
    "import re\n",
    "import torch\n",
    "\n",
    "from torch import nn, optim\n",
    "import torch.nn.functional as F"
   ]
  },
  {
   "cell_type": "markdown",
   "metadata": {},
   "source": [
    "## Introduction\n",
    "When deciding the value of a company, it's important to follow the news. For example, a product recall or natural disaster in a company's product chain. You want to be able to turn this information into a signal. Currently, the best tool for the job is a Neural Network. \n",
    "\n",
    "For this project, you'll use posts from the social media site [StockTwits](https://en.wikipedia.org/wiki/StockTwits). The community on StockTwits is full of investors, traders, and entrepreneurs. Each message posted is called a Twit. This is similar to Twitter's version of a post, called a Tweet. You'll build a model around these twits that generate a sentiment score.\n",
    "\n",
    "We've collected a bunch of twits, then hand labeled the sentiment of each. To capture the degree of sentiment, we'll use a five-point scale: very negative, negative, neutral, positive, very positive. Each twit is labeled -2 to 2 in steps of 1, from very negative to very positive respectively. You'll build a sentiment analysis model that will learn to assign sentiment to twits on its own, using this labeled data.\n",
    "\n",
    "The first thing we should to do, is load the data.\n",
    "\n",
    "## Import Twits \n",
    "### Load Twits Data \n",
    "This JSON file contains a list of objects for each twit in the `'data'` field:\n",
    "\n",
    "```\n",
    "{'data':\n",
    "  {'message_body': 'Neutral twit body text here',\n",
    "   'sentiment': 0},\n",
    "  {'message_body': 'Happy twit body text here',\n",
    "   'sentiment': 1},\n",
    "   ...\n",
    "}\n",
    "```\n",
    "\n",
    "The fields represent the following:\n",
    "\n",
    "* `'message_body'`: The text of the twit.\n",
    "* `'sentiment'`: Sentiment score for the twit, ranges from -2 to 2 in steps of 1, with 0 being neutral.\n",
    "\n",
    "\n",
    "To see what the data look like by printing the first 10 twits from the list. "
   ]
  },
  {
   "cell_type": "code",
   "execution_count": 2,
   "metadata": {},
   "outputs": [
    {
     "name": "stdout",
     "output_type": "stream",
     "text": [
      "[{'message_body': '$FITB great buy at 26.00...ill wait', 'sentiment': 2, 'timestamp': '2018-07-01T00:00:09Z'}, {'message_body': '@StockTwits $MSFT', 'sentiment': 1, 'timestamp': '2018-07-01T00:00:42Z'}, {'message_body': '#STAAnalystAlert for $TDG : Jefferies Maintains with a rating of Hold setting target price at USD 350.00. Our own verdict is Buy  http://www.stocktargetadvisor.com/toprating', 'sentiment': 2, 'timestamp': '2018-07-01T00:01:24Z'}, {'message_body': '$AMD I heard there’s a guy who knows someone who thinks somebody knows something - on StockTwits.', 'sentiment': 1, 'timestamp': '2018-07-01T00:01:47Z'}, {'message_body': '$AMD reveal yourself!', 'sentiment': 0, 'timestamp': '2018-07-01T00:02:13Z'}, {'message_body': '$AAPL Why the drop? I warren Buffet taking out his position?', 'sentiment': 1, 'timestamp': '2018-07-01T00:03:10Z'}, {'message_body': '$BA bears have 1 reason on 06-29 to pay more attention https://dividendbot.com?s=BA', 'sentiment': -2, 'timestamp': '2018-07-01T00:04:09Z'}, {'message_body': '$BAC ok good we&#39;re not dropping in price over the weekend, lol', 'sentiment': 1, 'timestamp': '2018-07-01T00:04:17Z'}, {'message_body': '$AMAT - Daily Chart, we need to get back to above 50.', 'sentiment': 2, 'timestamp': '2018-07-01T00:08:01Z'}, {'message_body': '$GME 3% drop per week after spike... if no news in 3 months, back to 12s... if BO, then bingo... what is the odds?', 'sentiment': -2, 'timestamp': '2018-07-01T00:09:03Z'}]\n"
     ]
    }
   ],
   "source": [
    "with open(os.path.join('..', '..', 'data', 'project_6_stocktwits', 'twits.json'), 'r') as f:\n",
    "    twits = json.load(f)\n",
    "\n",
    "print(twits['data'][:10])"
   ]
  },
  {
   "cell_type": "markdown",
   "metadata": {},
   "source": [
    "### Length of Data\n",
    "Now let's look at the number of twits in dataset. Print the number of twits below."
   ]
  },
  {
   "cell_type": "code",
   "execution_count": 3,
   "metadata": {},
   "outputs": [
    {
     "name": "stdout",
     "output_type": "stream",
     "text": [
      "1548010\n"
     ]
    }
   ],
   "source": [
    "\"\"\"print out the number of twits\"\"\"\n",
    "\n",
    "# TODO Implement \n",
    "\n",
    "print(len(twits['data']))"
   ]
  },
  {
   "cell_type": "markdown",
   "metadata": {},
   "source": [
    "### Split Message Body and Sentiment Score"
   ]
  },
  {
   "cell_type": "code",
   "execution_count": 4,
   "metadata": {},
   "outputs": [],
   "source": [
    "messages = [twit['message_body'] for twit in twits['data']]\n",
    "# Since the sentiment scores are discrete, we'll scale the sentiments to 0 to 4 for use in our network\n",
    "sentiments = [twit['sentiment'] + 2 for twit in twits['data']]"
   ]
  },
  {
   "cell_type": "markdown",
   "metadata": {},
   "source": [
    "## Preprocessing the Data\n",
    "With our data in hand we need to preprocess our text. These twits are collected by filtering on ticker symbols where these are denoted with a leader $ symbol in the twit itself. For example,\n",
    "\n",
    "`{'message_body': 'RT @google Our annual look at the year in Google blogging (and beyond) http://t.co/sptHOAh8 $GOOG',\n",
    " 'sentiment': 0}`\n",
    "\n",
    "The ticker symbols don't provide information on the sentiment, and they are in every twit, so we should remove them. This twit also has the `@google` username, again not providing sentiment information, so we should also remove it. We also see a URL `http://t.co/sptHOAh8`. Let's remove these too.\n",
    "\n",
    "The easiest way to remove specific words or phrases is with regex using the `re` module. You can sub out specific patterns with a space:\n",
    "\n",
    "```python\n",
    "re.sub(pattern, ' ', text)\n",
    "```\n",
    "This will substitute a space with anywhere the pattern matches in the text. Later when we tokenize the text, we'll split appropriately on those spaces."
   ]
  },
  {
   "cell_type": "markdown",
   "metadata": {},
   "source": [
    "### Pre-Processing"
   ]
  },
  {
   "cell_type": "code",
   "execution_count": 5,
   "metadata": {},
   "outputs": [
    {
     "name": "stdout",
     "output_type": "stream",
     "text": [
      "[nltk_data] Downloading package wordnet to /root/nltk_data...\n"
     ]
    }
   ],
   "source": [
    "nltk.download('wordnet')\n",
    "\n",
    "\n",
    "def preprocess(message):\n",
    "    \"\"\"\n",
    "    This function takes a string as input, then performs these operations: \n",
    "        - lowercase\n",
    "        - remove URLs\n",
    "        - remove ticker symbols \n",
    "        - removes punctuation\n",
    "        - tokenize by splitting the string on whitespace \n",
    "        - removes any single character tokens\n",
    "    \n",
    "    Parameters\n",
    "    ----------\n",
    "        message : The text message to be preprocessed.\n",
    "        \n",
    "    Returns\n",
    "    -------\n",
    "        tokens: The preprocessed text into tokens.\n",
    "    \"\"\" \n",
    "    #TODO: Implement \n",
    "    \n",
    "    # Lowercase the twit message\n",
    "    text = message.lower()\n",
    "    \n",
    "    # Replace URLs with a space in the message\n",
    "    regex = re.compile(r'\\bhttps?\\:([a-zA-z0-9?./;#-=]+)\\b')\n",
    "    text = regex.sub(' ', text)\n",
    "    \n",
    "    # Replace ticker symbols with a space. The ticker symbols are any stock symbol that starts with $.\n",
    "    regex = re.compile(r'\\$\\w*\\b')\n",
    "    text = regex.sub(' ', text)\n",
    "    \n",
    "    # Replace StockTwits usernames with a space. The usernames are any word that starts with @.\n",
    "    regex = re.compile(r'\\@([a-zA-Z0-9]+)\\b')\n",
    "    text = regex.sub(' ', text)\n",
    "\n",
    "    # Replace everything not a letter with a space\n",
    "    regex = re.compile(r'[^a-zA-Z]')\n",
    "    text = regex.sub(' ', text)\n",
    "    \n",
    "    # Tokenize by splitting the string on whitespace into a list of words\n",
    "    tokens = text.split()\n",
    "\n",
    "    # Lemmatize words using the WordNetLemmatizer. You can ignore any word that is not longer than one character.\n",
    "    wnl = nltk.stem.WordNetLemmatizer()\n",
    "    tokens = [wnl.lemmatize(word) for word in tokens if len(word) > 1]\n",
    "\n",
    "    \n",
    "    assert type(tokens) == list, 'Tokens should be list'\n",
    "    return tokens"
   ]
  },
  {
   "cell_type": "markdown",
   "metadata": {},
   "source": [
    ">Note: You must ensure that after preprocessing the text should NOT include:\n",
    "- Numbers\n",
    "- URLs\n",
    "- Single character tokens\n",
    "- Ticker symbols (these should be removed even if they don't appear at the beginning)"
   ]
  },
  {
   "cell_type": "markdown",
   "metadata": {},
   "source": [
    "### Preprocess All the Twits \n",
    "Now we can preprocess each of the twits in our dataset. Apply the function `preprocess` to all the twit messages."
   ]
  },
  {
   "cell_type": "code",
   "execution_count": 6,
   "metadata": {},
   "outputs": [
    {
     "name": "stdout",
     "output_type": "stream",
     "text": [
      "[[], [], ['http://www.stocktargetadvisor.com/toprating'], [], [], [], ['https://dividendbot.com?s=BA'], [], [], [], [], ['http://sunshineavenue.com/stock/SNPS'], [], [], [], ['https://dividendbot.com?s=PFE'], [], ['https://dividendbot.com?s=AAPL'], ['http://www.stocktargetadvisor.com/toprating'], [], ['https://www.chartmill.com/analyze.php?utm_source=stocktwits&amp;utm_medium=FA&amp;utm_content=HEALTH&amp;utm_campaign=social_tracking#/NKE?r=fa&amp;key=8832fee1-d06b-46b5-827f-26246a5e29a8'], ['https://www.seeitmarket.com/2-bullish-stocks-twitter-twtr-and-michael-kors-18140'], [], [], ['https://www.chartmill.com/analyze.php?utm_source=stocktwits&amp;utm_medium=FA&amp;utm_content=HEALTH&amp;utm_campaign=social_tracking#/FSLR?r=fa&amp;key=b431cf47-ec7e-4226-b864-511b6081b3be'], [], [], ['https://dividendbot.com?s=CVS'], [], ['https://bit.ly/2Kj0FNd'], [], ['https://volumebot.com/?s=URI'], [], [], ['http://www.stocktargetadvisor.com/toprating'], ['http://shortvolumes.com/?t=NTAP'], ['https://www.chartmill.com/analyze.php?utm_source=stocktwits&amp;utm_medium=FA&amp;utm_content=PROFITABILITY&amp;utm_campaign=social_tracking#/K?r=fa&amp;key=e4a695e1-f0f2-45d3-b20c-84c2169e9553'], ['https://dividendbot.com?s=TXN'], [], ['http://tinyurl.com/y7ue344l'], ['https://www.forbes.com/sites/ewanspence/2018/06/30/surface-andromeda-windowsphone-windows10-tablet-leak-rumor-specs-release-date/#1d21bec34e96'], ['https://chc.li/2KdqYUR'], [], ['https://app.seasonaledge.com/tools/I/TAP'], [], [], [], [], ['https://www.chartmill.com/analyze.php?utm_source=stocktwits&amp;utm_medium=FA&amp;utm_content=VALUATION&amp;utm_campaign=social_tracking#/MU?r=fa&amp;key=1852fbab-a521-4084-b2cf-8f89daf57241'], ['https://investoralmanac.com/2018/06/11/saber-capital-common-denominator-of-tencent-facebook-google'], [], ['https://www.chartmill.com/analyze.php?utm_source=stocktwits&amp;utm_medium=TA&amp;utm_content=TA&amp;utm_campaign=social_tracking#/DNR?key=390f838e-f784-423a-8673-94476a9ff4aa'], [], [], [], ['https://www.tradenet.com/limitedtime-offer/?campaign_id=7010O000001PnwD&amp;AffiliateOrg=TradeNet&amp;AffiliateId=36619&amp;AffiliateData=36619_451595'], [], ['https://investoralmanac.com/2018/04/28/jeffrey-gundlach-long-energy-stocks-short-facebook'], ['https://www.chartmill.com/analyze.php?utm_source=stocktwits&amp;utm_medium=FA&amp;utm_content=VALUATION&amp;utm_campaign=social_tracking#/HPQ?r=fa&amp;key=87d9930a-9d05-4a11-9ac9-e9954e349fe5'], ['https://investoralmanac.com/2018/04/28/jeffrey-gundlach-long-energy-stocks-short-facebook'], [], [], ['https://dividendbot.com?s=WBA'], [], [], [], ['https://investoralmanac.com/2018/04/28/jeffrey-gundlach-long-energy-stocks-short-facebook'], [], ['https://uk.reuters.com/article/uk-indonesia-rio-tinto-grasberg/indonesias-inalum-close-to-acquiring-rio-interest-in-grasberg-copper-mine-official-idUKKBN1JQ05H'], ['https://www.chartmill.com/analyze.php?utm_source=stocktwits&amp;utm_medium=TA&amp;utm_content=SETUP&amp;utm_campaign=social_tracking#/WYNN?key=5f008ceb-7e89-4999-a2da-c893680bc755'], [], ['http://shortvolumes.com/?t=PWR'], [], ['http://sunshineavenue.com/stock/URBN'], [], [], ['http://www.stocktargetadvisor.com/toprating'], [], ['http://dividendvaluebuilder.com/hormel-foods-hrl-stock-analysis'], ['https://app.seasonaledge.com/tools/I/DAL'], ['http://dividendvaluebuilder.com/intel-intc-stock-analysis'], ['https://app.seasonaledge.com/tools/I/MPC'], ['https://www.chartmill.com/analyze.php?utm_source=stocktwits&amp;utm_medium=TA&amp;utm_content=TA&amp;utm_campaign=social_tracking#/CHK?key=4df21b39-cb5c-41b6-88a7-ddbd28711da9'], [], [], [], [], [], [], ['https://volumebot.com/?s=TAP'], ['http://dividendvaluebuilder.com/wal-mart-wmt-stock-analysis'], [], ['http://sunshineavenue.com/stock/ALK'], [], [], ['https://www.chartmill.com/analyze.php?utm_source=stocktwits&amp;utm_medium=FA&amp;utm_content=VALUATION&amp;utm_campaign=social_tracking#/BBBY?r=fa&amp;key=f2bb9afa-b79e-4ecc-ace1-4be77006d5e1'], [], [], ['http://tinyurl.com/y88m4ukn'], ['https://www.hollywoodreporter.com/thr-esq/netflix-gets-green-light-appeals-court-challenge-foxs-employment-contracts-1124206?utm_source=Sailthru&amp;utm_medium=email&amp;utm_campaign=THR+Breaking+News_now_2018-06-29+10%3A57%3A38_ehayden&amp;utm_term=hollywoodreporter_breakingnews']]\n"
     ]
    }
   ],
   "source": [
    "# TODO Implement\n",
    "\n",
    "tokens = []\n",
    "\n",
    "for message in messages:\n",
    "    regex = re.compile(r'\\bhttps?\\:([a-zA-z0-9?./;#-=]+)\\b')\n",
    "    # Search the sample_text for the regular expression\n",
    "    matches = regex.finditer(message)\n",
    "    tokens.append([message[match.span()[0]:match.span()[1]] for match in matches])\n",
    "\n",
    "print(tokens[:100])\n",
    "\n",
    "tokenized = [preprocess(message) for message in messages]\n"
   ]
  },
  {
   "cell_type": "markdown",
   "metadata": {},
   "source": [
    "### Bag of Words\n",
    "Now with all of our messages tokenized, we want to create a vocabulary and count up how often each word appears in our entire corpus. Use the [`Counter`](https://docs.python.org/3.1/library/collections.html#collections.Counter) function to count up all the tokens."
   ]
  },
  {
   "cell_type": "code",
   "execution_count": 9,
   "metadata": {},
   "outputs": [],
   "source": [
    "from collections import Counter\n",
    "\n",
    "\n",
    "\"\"\"\n",
    "Create a vocabulary by using Bag of words\n",
    "\"\"\"\n",
    "\n",
    "# TODO: Implement \n",
    "\n",
    "words = [word for tokens in tokenized for word in tokens ]\n",
    "# print(words)\n",
    "bow = Counter(words)"
   ]
  },
  {
   "cell_type": "code",
   "execution_count": 10,
   "metadata": {},
   "outputs": [],
   "source": [
    "# print(bow)"
   ]
  },
  {
   "cell_type": "markdown",
   "metadata": {},
   "source": [
    "### Frequency of Words Appearing in Message\n",
    "With our vocabulary, now we'll remove some of the most common words such as 'the', 'and', 'it', etc. These words don't contribute to identifying sentiment and are really common, resulting in a lot of noise in our input. If we can filter these out, then our network should have an easier time learning.\n",
    "\n",
    "We also want to remove really rare words that show up in a only a few twits. Here you'll want to divide the count of each word by the **number of messages** calculated in the code block above (i.e. `len(messages))`. Then remove words that only appear in some small fraction of the messages.\n",
    "\n",
    ">Note: There is not an exact number for low and high-frequency cut-offs, however there is a correct optimal range.\n",
    "You should ideally set up low-frequency cut-off from 0.0000002 to 0.000007 (inclusive) and high-frequency from 5 to 20 (inclusive). If the number is too big, we lose lots of important words that we can use in our data."
   ]
  },
  {
   "cell_type": "code",
   "execution_count": 13,
   "metadata": {},
   "outputs": [
    {
     "name": "stdout",
     "output_type": "stream",
     "text": [
      "['at', 'for', 'of', 'is', 'on', 'the', 'to', 'in', 'and', 'this', 'it', 'will']\n"
     ]
    },
    {
     "data": {
      "text/plain": [
       "24951"
      ]
     },
     "execution_count": 13,
     "metadata": {},
     "output_type": "execute_result"
    }
   ],
   "source": [
    "\"\"\"\n",
    "Set the following variables:\n",
    "    freqs\n",
    "    low_cutoff\n",
    "    high_cutoff\n",
    "    K_most_common\n",
    "\"\"\"\n",
    "\n",
    "# TODO Implement \n",
    "\n",
    "# Dictionart that contains the Frequency of words appearing in messages.\n",
    "# The key is the token and the value is the frequency of that word in the corpus.\n",
    "Total_count = sum(bow.values())\n",
    "freqs = {word : bow[word] / Total_count for word in bow}\n",
    "# print(freqs)\n",
    "\n",
    "# Float that is the frequency cutoff. Drop words with a frequency that is lower or equal to this number.\n",
    "low_cutoff = 5 / Total_count\n",
    "# print(low_cutoff)\n",
    "\n",
    "# Integer that is the cut off for most common words. Drop words that are the `high_cutoff` most common words.\n",
    "high_cutoff = 128211 / Total_count\n",
    "# print(high_cutoff)\n",
    "\n",
    "# The k most common words in the corpus. Use `high_cutoff` as the k.\n",
    "K_most_common = [word for word in freqs if freqs[word] >= high_cutoff]\n",
    "\n",
    "filtered_words = [word for word in freqs if (freqs[word] > low_cutoff and word not in K_most_common)]\n",
    "print(K_most_common)\n",
    "len(filtered_words) "
   ]
  },
  {
   "cell_type": "markdown",
   "metadata": {},
   "source": [
    "### Updating Vocabulary by Removing Filtered Words\n",
    "Let's creat three variables that will help with our vocabulary."
   ]
  },
  {
   "cell_type": "code",
   "execution_count": 14,
   "metadata": {},
   "outputs": [],
   "source": [
    "\"\"\"\n",
    "Set the following variables:\n",
    "    vocab\n",
    "    id2vocab\n",
    "    filtered\n",
    "\"\"\"\n",
    "\n",
    "#TODO Implement\n",
    "\n",
    "# A dictionary for the `filtered_words`. The key is the word and value is an id that represents the word. \n",
    "vocab = {word:idx for idx, word in enumerate(filtered_words, start = 1) }\n",
    "\n",
    "# Reverse of the `vocab` dictionary. The key is word id and value is the word. \n",
    "id2vocab = {idx:word for word, idx in vocab.items()}\n",
    "\n",
    "# tokenized with the words not in `filtered_words` removed.\n",
    "filtered = [[token for token in message if token in vocab] for message in tokenized]\n",
    "\n",
    "assert set(vocab.keys()) == set(id2vocab.values()), 'Check vocab and id2vocab dictionaries'"
   ]
  },
  {
   "cell_type": "markdown",
   "metadata": {},
   "source": [
    "### Balancing the classes\n",
    "Let's do a few last pre-processing steps. If we look at how our twits are labeled, we'll find that 50% of them are neutral. This means that our network will be 50% accurate just by guessing 0 every single time. To help our network learn appropriately, we'll want to balance our classes.\n",
    "That is, make sure each of our different sentiment scores show up roughly as frequently in the data.\n",
    "\n",
    "What we can do here is go through each of our examples and randomly drop twits with neutral sentiment. What should be the probability we drop these twits if we want to get around 20% neutral twits starting at 50% neutral? We should also take this opportunity to remove messages with length 0."
   ]
  },
  {
   "cell_type": "code",
   "execution_count": 15,
   "metadata": {},
   "outputs": [],
   "source": [
    "balanced = {'messages': [], 'sentiments':[]}\n",
    "\n",
    "n_neutral = sum(1 for each in sentiments if each == 2)\n",
    "N_examples = len(sentiments)\n",
    "keep_prob = (N_examples - n_neutral)/4/n_neutral\n",
    "\n",
    "for idx, sentiment in enumerate(sentiments):\n",
    "    message = filtered[idx]\n",
    "    if len(message) == 0:\n",
    "        # skip this message because it has length zero\n",
    "        continue\n",
    "    elif sentiment != 2 or random.random() < keep_prob:\n",
    "        balanced['messages'].append(message)\n",
    "        balanced['sentiments'].append(sentiment) "
   ]
  },
  {
   "cell_type": "markdown",
   "metadata": {},
   "source": [
    "If you did it correctly, you should see the following result "
   ]
  },
  {
   "cell_type": "code",
   "execution_count": 16,
   "metadata": {},
   "outputs": [
    {
     "data": {
      "text/plain": [
       "0.19477866237556402"
      ]
     },
     "execution_count": 16,
     "metadata": {},
     "output_type": "execute_result"
    }
   ],
   "source": [
    "n_neutral = sum(1 for each in balanced['sentiments'] if each == 2)\n",
    "N_examples = len(balanced['sentiments'])\n",
    "n_neutral/N_examples"
   ]
  },
  {
   "cell_type": "markdown",
   "metadata": {},
   "source": [
    "Finally let's convert our tokens into integer ids which we can pass to the network."
   ]
  },
  {
   "cell_type": "code",
   "execution_count": 20,
   "metadata": {},
   "outputs": [
    {
     "name": "stdout",
     "output_type": "stream",
     "text": [
      "[[1, 2, 3, 4], [5, 6, 7, 8, 9, 10, 11, 12, 13, 14, 15, 16, 17, 2], [18, 19, 20, 21, 22, 23, 21, 24, 25, 22, 26, 27], [30, 31, 32, 33, 34, 35, 36, 37], [38, 39, 40, 41, 42, 43], [44, 45, 46, 47, 48, 49, 13, 50, 51, 52], [53, 54, 46, 55, 56, 57, 58], [31, 59, 60, 61, 62, 63, 64, 65, 66, 57, 63, 67, 68, 69, 70, 71], [72, 2]]\n"
     ]
    }
   ],
   "source": [
    "token_ids = [[vocab[word] for word in message] for message in balanced['messages']]\n",
    "sentiments = balanced['sentiments']\n",
    "print(token_ids[:9])\n",
    "# print(sentiments)"
   ]
  },
  {
   "cell_type": "markdown",
   "metadata": {},
   "source": [
    "## Neural Network\n",
    "Now we have our vocabulary which means we can transform our tokens into ids, which are then passed to our network. So, let's define the network now!\n",
    "\n",
    "Here is a nice diagram showing the network we'd like to build: \n",
    "\n",
    "#### Embed -> RNN -> Dense -> Softmax\n",
    "### Implement the text classifier\n",
    "Before we build text classifier, if you remember from the other network that you built in  \"Sentiment Analysis with an RNN\"  exercise  - which there, the network called \" SentimentRNN\", here we named it \"TextClassifer\" - consists of three main parts: 1) init function `__init__` 2) forward pass `forward`  3) hidden state `init_hidden`. \n",
    "\n",
    "This network is pretty similar to the network you built expect in the  `forward` pass, we use softmax instead of sigmoid. The reason we are not using sigmoid is that the output of NN is not a binary. In our network, sentiment scores have 5 possible outcomes. We are looking for an outcome with the highest probability thus softmax is a better choice."
   ]
  },
  {
   "cell_type": "code",
   "execution_count": 22,
   "metadata": {},
   "outputs": [
    {
     "name": "stdout",
     "output_type": "stream",
     "text": [
      "success\n"
     ]
    }
   ],
   "source": [
    "class TextClassifier(nn.Module):\n",
    "    def __init__(self, vocab_size, embed_size, lstm_size, output_size, lstm_layers=1, dropout=0.1):\n",
    "        \"\"\"\n",
    "        Initialize the model by setting up the layers.\n",
    "        \n",
    "        Parameters\n",
    "        ----------\n",
    "            vocab_size : The vocabulary size.\n",
    "            embed_size : The embedding layer size.\n",
    "            lstm_size : The LSTM layer size.\n",
    "            output_size : The output size.\n",
    "            lstm_layers : The number of LSTM layers.\n",
    "            dropout : The dropout probability.\n",
    "        \"\"\"\n",
    "        \n",
    "        super().__init__()\n",
    "        self.vocab_size = vocab_size\n",
    "        self.embed_size = embed_size\n",
    "        self.lstm_size = lstm_size\n",
    "        self.output_size = output_size\n",
    "        self.lstm_layers = lstm_layers\n",
    "        self.dropout = dropout\n",
    "        \n",
    "        # TODO Implement\n",
    "        \n",
    "        # Setup embedding layer\n",
    "        self.embedding = nn.Embedding(vocab_size,embed_size)\n",
    "        self.lstm = nn.LSTM(embed_size, lstm_size, lstm_layers, \n",
    "                            dropout = dropout, batch_first = False)\n",
    "        \n",
    "        # Setup additional layers\n",
    "        self.dropout = nn.Dropout(dropout)\n",
    "        self.fc = nn.Linear(lstm_size,output_size)\n",
    "        self.softmax = nn.LogSoftmax()\n",
    "\n",
    "\n",
    "    def init_hidden(self, batch_size):\n",
    "        \"\"\" \n",
    "        Initializes hidden state\n",
    "        \n",
    "        Parameters\n",
    "        ----------\n",
    "            batch_size : The size of batches.\n",
    "        \n",
    "        Returns\n",
    "        -------\n",
    "            hidden_state\n",
    "            \n",
    "        \"\"\"\n",
    "        \n",
    "        # TODO Implement \n",
    "        \n",
    "        # Create two new tensors with sizes n_layers x batch_size x hidden_dim,\n",
    "        # initialized to zero, for hidden state and cell state of LSTM\n",
    "        \n",
    "        weight = next(self.parameters()).data\n",
    "        hidden_state = (weight.new(self.lstm_layers, batch_size, self.lstm_size).zero_(), \n",
    "                  weight.new(self.lstm_layers, batch_size, self.lstm_size).zero_())\n",
    "        \n",
    "        return hidden_state\n",
    "\n",
    "\n",
    "    def forward(self, nn_input, hidden_state):\n",
    "        \"\"\"\n",
    "        Perform a forward pass of our model on nn_input.\n",
    "        \n",
    "        Parameters\n",
    "        ----------\n",
    "            nn_input : The batch of input to the NN.\n",
    "            hidden_state : The LSTM hidden state.\n",
    "\n",
    "        Returns\n",
    "        -------\n",
    "            logps: log softmax output\n",
    "            hidden_state: The new hidden state.\n",
    "\n",
    "        \"\"\"\n",
    "\n",
    "        # TODO Implement \n",
    "        batch_size = nn_input.size(1)\n",
    "        nn_input = nn_input.long()\n",
    "        \n",
    "        emb = self.embedding(nn_input)\n",
    "        lstm_out, hidden = self.lstm(emb,hidden_state)\n",
    "        lstm_out = lstm_out[-1,:,:]\n",
    "        \n",
    "        logps = self.dropout(lstm_out)\n",
    "        logps = self.fc(logps)\n",
    "        logps = self.softmax(logps)\n",
    "        \n",
    "        return logps, hidden\n",
    "print(\"success\")"
   ]
  },
  {
   "cell_type": "markdown",
   "metadata": {},
   "source": [
    "### View Model"
   ]
  },
  {
   "cell_type": "code",
   "execution_count": 23,
   "metadata": {},
   "outputs": [
    {
     "name": "stdout",
     "output_type": "stream",
     "text": [
      "tensor([[-1.7037, -1.3618, -1.6730, -1.4642, -1.9460],\n",
      "        [-1.7046, -1.3609, -1.6559, -1.4841, -1.9372],\n",
      "        [-1.7075, -1.3585, -1.6573, -1.4817, -1.9399],\n",
      "        [-1.7040, -1.3653, -1.6648, -1.4754, -1.9323]])\n"
     ]
    },
    {
     "name": "stderr",
     "output_type": "stream",
     "text": [
      "/opt/conda/lib/python3.6/site-packages/ipykernel_launcher.py:89: UserWarning: Implicit dimension choice for log_softmax has been deprecated. Change the call to include dim=X as an argument.\n"
     ]
    }
   ],
   "source": [
    "model = TextClassifier(len(vocab), 10, 6, 5, dropout=0.1, lstm_layers=2)\n",
    "model.embedding.weight.data.uniform_(-1, 1)\n",
    "input = torch.randint(0, 1000, (5, 4), dtype=torch.int64)\n",
    "hidden = model.init_hidden(4)\n",
    "\n",
    "logps, _ = model.forward(input, hidden)\n",
    "print(logps)"
   ]
  },
  {
   "cell_type": "markdown",
   "metadata": {},
   "source": [
    "## Training\n",
    "### DataLoaders and Batching\n",
    "Now we should build a generator that we can use to loop through our data. It'll be more efficient if we can pass our sequences in as batches. Our input tensors should look like `(sequence_length, batch_size)`. So if our sequences are 40 tokens long and we pass in 25 sequences, then we'd have an input size of `(40, 25)`.\n",
    "\n",
    "If we set our sequence length to 40, what do we do with messages that are more or less than 40 tokens? For messages with fewer than 40 tokens, we will pad the empty spots with zeros. We should be sure to **left** pad so that the RNN starts from nothing before going through the data. If the message has 20 tokens, then the first 20 spots of our 40 long sequence will be 0. If a message has more than 40 tokens, we'll just keep the first 40 tokens."
   ]
  },
  {
   "cell_type": "code",
   "execution_count": 24,
   "metadata": {},
   "outputs": [],
   "source": [
    "def dataloader(messages, labels, sequence_length=30, batch_size=32, shuffle=False):\n",
    "    \"\"\" \n",
    "    Build a dataloader.\n",
    "    \"\"\"\n",
    "    if shuffle:\n",
    "        indices = list(range(len(messages)))\n",
    "        random.shuffle(indices)\n",
    "        messages = [messages[idx] for idx in indices]\n",
    "        labels = [labels[idx] for idx in indices]\n",
    "\n",
    "    total_sequences = len(messages)\n",
    "\n",
    "    for ii in range(0, total_sequences, batch_size):\n",
    "        batch_messages = messages[ii: ii+batch_size]\n",
    "        \n",
    "        # First initialize a tensor of all zeros\n",
    "        batch = torch.zeros((sequence_length, len(batch_messages)), dtype=torch.int64)\n",
    "        for batch_num, tokens in enumerate(batch_messages):\n",
    "            token_tensor = torch.tensor(tokens)\n",
    "            # Left pad!\n",
    "            start_idx = max(sequence_length - len(token_tensor), 0)\n",
    "            batch[start_idx:, batch_num] = token_tensor[:sequence_length]\n",
    "        \n",
    "        label_tensor = torch.tensor(labels[ii: ii+len(batch_messages)])\n",
    "        \n",
    "        yield batch, label_tensor"
   ]
  },
  {
   "cell_type": "markdown",
   "metadata": {},
   "source": [
    "### Training and  Validation\n",
    "With our data in nice shape, we'll split it into training and validation sets."
   ]
  },
  {
   "cell_type": "code",
   "execution_count": 25,
   "metadata": {},
   "outputs": [],
   "source": [
    "\"\"\"\n",
    "Split data into training and validation datasets. Use an appropriate split size.\n",
    "The features are the `token_ids` and the labels are the `sentiments`.\n",
    "\"\"\"   \n",
    "\n",
    "# TODO Implement \n",
    "\n",
    "train_features = token_ids[:int(len(token_ids)*0.8)]\n",
    "valid_features = token_ids[int(len(token_ids)*0.8):]\n",
    "train_labels = sentiments[:int(len(token_ids)*0.8)]\n",
    "valid_labels = sentiments[int(len(token_ids)*0.8):]"
   ]
  },
  {
   "cell_type": "code",
   "execution_count": 26,
   "metadata": {},
   "outputs": [
    {
     "name": "stderr",
     "output_type": "stream",
     "text": [
      "/opt/conda/lib/python3.6/site-packages/ipykernel_launcher.py:89: UserWarning: Implicit dimension choice for log_softmax has been deprecated. Change the call to include dim=X as an argument.\n"
     ]
    }
   ],
   "source": [
    "text_batch, labels = next(iter(dataloader(train_features, train_labels, sequence_length=20, batch_size=64)))\n",
    "model = TextClassifier(len(vocab)+1, 200, 128, 5, dropout=0.)\n",
    "hidden = model.init_hidden(64)\n",
    "logps, hidden = model.forward(text_batch, hidden)"
   ]
  },
  {
   "cell_type": "markdown",
   "metadata": {},
   "source": [
    "### Training\n",
    "It's time to train the neural network!"
   ]
  },
  {
   "cell_type": "code",
   "execution_count": 27,
   "metadata": {},
   "outputs": [
    {
     "data": {
      "text/plain": [
       "TextClassifier(\n",
       "  (embedding): Embedding(24952, 1024)\n",
       "  (lstm): LSTM(1024, 512, num_layers=2, dropout=0.2)\n",
       "  (dropout): Dropout(p=0.2)\n",
       "  (fc): Linear(in_features=512, out_features=5, bias=True)\n",
       "  (softmax): LogSoftmax()\n",
       ")"
      ]
     },
     "execution_count": 27,
     "metadata": {},
     "output_type": "execute_result"
    }
   ],
   "source": [
    "device = torch.device(\"cuda\" if torch.cuda.is_available() else \"cpu\")\n",
    "\n",
    "model = TextClassifier(len(vocab)+1, 1024, 512, 5, lstm_layers=2, dropout=0.2)\n",
    "model.embedding.weight.data.uniform_(-1, 1)\n",
    "model.to(device)"
   ]
  },
  {
   "cell_type": "code",
   "execution_count": 29,
   "metadata": {},
   "outputs": [
    {
     "name": "stdout",
     "output_type": "stream",
     "text": [
      "Starting epoch 1\n"
     ]
    },
    {
     "name": "stderr",
     "output_type": "stream",
     "text": [
      "/opt/conda/lib/python3.6/site-packages/ipykernel_launcher.py:89: UserWarning: Implicit dimension choice for log_softmax has been deprecated. Change the call to include dim=X as an argument.\n"
     ]
    },
    {
     "name": "stdout",
     "output_type": "stream",
     "text": [
      "-- Epoch: 1/3... - Step: 400... - Loss: 0.882349... - Validation Loss: 0.952315\n",
      "-- Epoch: 1/3... - Step: 800... - Loss: 0.838174... - Validation Loss: 0.882353\n",
      "-- Epoch: 1/3... - Step: 1200... - Loss: 0.808369... - Validation Loss: 0.835428\n",
      "-- Epoch: 1/3... - Step: 1600... - Loss: 0.905475... - Validation Loss: 0.797657\n",
      "-- Epoch: 1/3... - Step: 2000... - Loss: 0.642208... - Validation Loss: 0.779266\n",
      "-- Epoch: 1/3... - Step: 2400... - Loss: 0.717632... - Validation Loss: 0.771240\n",
      "-- Epoch: 1/3... - Step: 2800... - Loss: 0.858138... - Validation Loss: 0.756070\n",
      "-- Epoch: 1/3... - Step: 3200... - Loss: 0.779172... - Validation Loss: 0.751945\n",
      "-- Epoch: 1/3... - Step: 3600... - Loss: 0.651655... - Validation Loss: 0.742277\n",
      "-- Epoch: 1/3... - Step: 4000... - Loss: 0.709386... - Validation Loss: 0.746664\n",
      "-- Epoch: 1/3... - Step: 4400... - Loss: 0.662696... - Validation Loss: 0.732115\n",
      "-- Epoch: 1/3... - Step: 4800... - Loss: 0.811103... - Validation Loss: 0.724601\n",
      "-- Epoch: 1/3... - Step: 5200... - Loss: 0.930730... - Validation Loss: 0.725700\n",
      "-- Epoch: 1/3... - Step: 5600... - Loss: 0.608092... - Validation Loss: 0.718708\n",
      "-- Epoch: 1/3... - Step: 6000... - Loss: 0.633876... - Validation Loss: 0.721800\n",
      "-- Epoch: 1/3... - Step: 6400... - Loss: 0.699688... - Validation Loss: 0.717363\n",
      "-- Epoch: 1/3... - Step: 6800... - Loss: 0.769742... - Validation Loss: 0.714483\n",
      "-- Epoch: 1/3... - Step: 7200... - Loss: 0.758680... - Validation Loss: 0.717454\n",
      "-- Epoch: 1/3... - Step: 7600... - Loss: 0.513280... - Validation Loss: 0.709788\n",
      "-- Epoch: 1/3... - Step: 8000... - Loss: 0.714104... - Validation Loss: 0.714403\n",
      "Starting epoch 2\n",
      "-- Epoch: 2/3... - Step: 400... - Loss: 0.903216... - Validation Loss: 0.713870\n",
      "-- Epoch: 2/3... - Step: 800... - Loss: 0.553887... - Validation Loss: 0.715057\n",
      "-- Epoch: 2/3... - Step: 1200... - Loss: 0.572061... - Validation Loss: 0.713963\n",
      "-- Epoch: 2/3... - Step: 1600... - Loss: 0.580328... - Validation Loss: 0.714399\n",
      "-- Epoch: 2/3... - Step: 2000... - Loss: 0.601564... - Validation Loss: 0.715353\n",
      "-- Epoch: 2/3... - Step: 2400... - Loss: 0.807892... - Validation Loss: 0.712499\n",
      "-- Epoch: 2/3... - Step: 2800... - Loss: 0.713846... - Validation Loss: 0.709440\n",
      "-- Epoch: 2/3... - Step: 3200... - Loss: 0.680918... - Validation Loss: 0.711398\n",
      "-- Epoch: 2/3... - Step: 3600... - Loss: 0.755988... - Validation Loss: 0.712537\n",
      "-- Epoch: 2/3... - Step: 4000... - Loss: 0.595298... - Validation Loss: 0.709931\n",
      "-- Epoch: 2/3... - Step: 4400... - Loss: 0.535164... - Validation Loss: 0.701595\n",
      "-- Epoch: 2/3... - Step: 4800... - Loss: 0.764483... - Validation Loss: 0.705185\n",
      "-- Epoch: 2/3... - Step: 5200... - Loss: 0.607909... - Validation Loss: 0.706001\n",
      "-- Epoch: 2/3... - Step: 5600... - Loss: 0.789499... - Validation Loss: 0.706333\n",
      "-- Epoch: 2/3... - Step: 6000... - Loss: 0.677047... - Validation Loss: 0.704536\n",
      "-- Epoch: 2/3... - Step: 6400... - Loss: 0.681988... - Validation Loss: 0.702409\n",
      "-- Epoch: 2/3... - Step: 6800... - Loss: 0.552953... - Validation Loss: 0.699845\n",
      "-- Epoch: 2/3... - Step: 7200... - Loss: 0.662439... - Validation Loss: 0.698576\n",
      "-- Epoch: 2/3... - Step: 7600... - Loss: 0.638653... - Validation Loss: 0.696660\n",
      "-- Epoch: 2/3... - Step: 8000... - Loss: 0.588898... - Validation Loss: 0.694926\n",
      "Starting epoch 3\n",
      "-- Epoch: 3/3... - Step: 400... - Loss: 0.662430... - Validation Loss: 0.717795\n",
      "-- Epoch: 3/3... - Step: 800... - Loss: 0.603150... - Validation Loss: 0.727217\n",
      "-- Epoch: 3/3... - Step: 1200... - Loss: 0.510512... - Validation Loss: 0.721987\n",
      "-- Epoch: 3/3... - Step: 1600... - Loss: 0.528725... - Validation Loss: 0.720935\n",
      "-- Epoch: 3/3... - Step: 2000... - Loss: 0.540842... - Validation Loss: 0.723157\n",
      "-- Epoch: 3/3... - Step: 2400... - Loss: 0.512132... - Validation Loss: 0.716526\n",
      "-- Epoch: 3/3... - Step: 2800... - Loss: 0.720532... - Validation Loss: 0.720856\n",
      "-- Epoch: 3/3... - Step: 3200... - Loss: 0.639688... - Validation Loss: 0.717213\n",
      "-- Epoch: 3/3... - Step: 3600... - Loss: 0.613411... - Validation Loss: 0.721099\n",
      "-- Epoch: 3/3... - Step: 4000... - Loss: 0.553763... - Validation Loss: 0.720461\n",
      "-- Epoch: 3/3... - Step: 4400... - Loss: 0.640646... - Validation Loss: 0.716947\n",
      "-- Epoch: 3/3... - Step: 4800... - Loss: 0.652499... - Validation Loss: 0.716881\n",
      "-- Epoch: 3/3... - Step: 5200... - Loss: 0.569898... - Validation Loss: 0.715898\n",
      "-- Epoch: 3/3... - Step: 5600... - Loss: 0.680247... - Validation Loss: 0.712339\n",
      "-- Epoch: 3/3... - Step: 6000... - Loss: 0.693295... - Validation Loss: 0.715782\n",
      "-- Epoch: 3/3... - Step: 6400... - Loss: 0.764522... - Validation Loss: 0.712146\n",
      "-- Epoch: 3/3... - Step: 6800... - Loss: 0.518931... - Validation Loss: 0.716998\n",
      "-- Epoch: 3/3... - Step: 7200... - Loss: 0.601495... - Validation Loss: 0.714468\n",
      "-- Epoch: 3/3... - Step: 7600... - Loss: 0.436388... - Validation Loss: 0.710552\n",
      "-- Epoch: 3/3... - Step: 8000... - Loss: 0.503838... - Validation Loss: 0.711580\n"
     ]
    }
   ],
   "source": [
    "\"\"\"\n",
    "Train your model with dropout. Make sure to clip your gradients.\n",
    "Print the training loss, validation loss, and validation accuracy for every 100 steps.\n",
    "\"\"\"\n",
    "\n",
    "import numpy as np\n",
    "epochs = 3\n",
    "batch_size = 100\n",
    "learning_rate = 0.001\n",
    "\n",
    "print_every = 400\n",
    "criterion = nn.NLLLoss()\n",
    "optimizer = optim.Adam(model.parameters(), lr=learning_rate)\n",
    "model.train()\n",
    "\n",
    "for epoch in range(epochs):\n",
    "    print('Starting epoch {}'.format(epoch + 1))\n",
    "    \n",
    "    steps = 0\n",
    "    for text_batch, labels in dataloader(\n",
    "            train_features, train_labels, batch_size=batch_size, sequence_length=20, shuffle=True):\n",
    "        steps += 1\n",
    "        hidden = model.init_hidden(labels.shape[0])\n",
    "        \n",
    "        # Set Device\n",
    "        text_batch, labels = text_batch.to(device), labels.to(device)\n",
    "        for each in hidden:\n",
    "            each.to(device)\n",
    "        \n",
    "        # TODO Implement: Train Model\n",
    "        model.zero_grad()\n",
    "        \n",
    "        # get out\n",
    "        out, hidden = model.forward(text_batch, hidden)\n",
    "        \n",
    "        # calculate loss\n",
    "        loss = criterion(out.squeeze(), labels)\n",
    "        loss.backward()\n",
    "        \n",
    "        # clip grad norm\n",
    "        nn.utils.clip_grad_norm_(model.parameters(), 5)\n",
    "        optimizer.step()\n",
    "        \n",
    "        if steps % print_every == 0:\n",
    "            model.eval()\n",
    "            val_losses = []\n",
    "            \n",
    "            # TODO Implement: Print metrics\n",
    "            for batch_t, labels in dataloader(\n",
    "                valid_features, valid_labels, batch_size=batch_size, sequence_length=20, shuffle=True):\n",
    "                val_h = model.init_hidden(labels.shape[0])\n",
    "                inputs, labels = batch_t.to(device), labels.to(device)\n",
    "                \n",
    "                for each in hidden:\n",
    "                    each.to(device)\n",
    "                            \n",
    "                out_h, val_h = model.forward(inputs, val_h)\n",
    "                val_loss = criterion(out_h.squeeze(), labels)\n",
    "                val_losses.append(val_loss.item())\n",
    "            \n",
    "            model.train()\n",
    "            print('-- Epoch: {}/{}...'.format(epoch + 1, epochs),\n",
    "                 '- Step: {}...'.format(steps),\n",
    "                 '- Loss: {:.6f}...'.format(loss.item()),\n",
    "                 '- Validation Loss: {:.6f}'.format(np.mean(val_losses)))"
   ]
  },
  {
   "cell_type": "markdown",
   "metadata": {},
   "source": [
    "## Making Predictions\n",
    "### Prediction \n",
    "Okay, now that you have a trained model, try it on some new twits and see if it works appropriately. Remember that for any new text, you'll need to preprocess it first before passing it to the network. Implement the `predict` function to generate the prediction vector from a message."
   ]
  },
  {
   "cell_type": "code",
   "execution_count": 30,
   "metadata": {},
   "outputs": [],
   "source": [
    "def predict(text, model, vocab):\n",
    "    \"\"\" \n",
    "    Make a prediction on a single sentence.\n",
    "\n",
    "    Parameters\n",
    "    ----------\n",
    "        text : The string to make a prediction on.\n",
    "        model : The model to use for making the prediction.\n",
    "        vocab : Dictionary for word to word ids. The key is the word and the value is the word id.\n",
    "\n",
    "    Returns\n",
    "    -------\n",
    "        pred : Prediction vector\n",
    "    \"\"\"    \n",
    "    \n",
    "    # TODO Implement\n",
    "    \n",
    "    tokens = preprocess(text)\n",
    "    \n",
    "    # Filter non-vocab words\n",
    "    tokens = [token for token in tokens if token in vocab]\n",
    "    \n",
    "    # Convert words to ids\n",
    "    tokens = [vocab[token] for token in tokens]\n",
    "        \n",
    "    # Adding a batch dimension\n",
    "    text_input = torch.FloatTensor(tokens).view(-1,1)\n",
    "    text_input = torch.from_numpy(np.asarray(text_input))\n",
    "    \n",
    "    # Get the NN output\n",
    "    hidden = model.init_hidden(1)\n",
    "    logps, _ = model.forward(text_input, hidden)\n",
    "    \n",
    "    # Take the exponent of the NN output to get a range of 0 to 1 for each label.\n",
    "    pred = torch.exp(logps)\n",
    "    \n",
    "    return pred"
   ]
  },
  {
   "cell_type": "code",
   "execution_count": 31,
   "metadata": {},
   "outputs": [
    {
     "name": "stderr",
     "output_type": "stream",
     "text": [
      "/opt/conda/lib/python3.6/site-packages/ipykernel_launcher.py:89: UserWarning: Implicit dimension choice for log_softmax has been deprecated. Change the call to include dim=X as an argument.\n"
     ]
    },
    {
     "data": {
      "text/plain": [
       "tensor([[ 0.0001,  0.0095,  0.0055,  0.8934,  0.0915]])"
      ]
     },
     "execution_count": 31,
     "metadata": {},
     "output_type": "execute_result"
    }
   ],
   "source": [
    "text = \"Google is working on self driving cars, I'm bullish on $goog\"\n",
    "model.eval()\n",
    "model.to(\"cpu\")\n",
    "predict(text, model, vocab)"
   ]
  },
  {
   "cell_type": "markdown",
   "metadata": {},
   "source": [
    "### Questions: What is the prediction of the model? What is the uncertainty of the prediction?\n",
    "** TODO: Answer Question**\n",
    "\n",
    "The model is predicting a highest probability (89%) of the text being positive and being a sentiment of 1. The uncertainly of this prediction being a 1 is 11% which isn't too low. I also think if we combine the probabilities on the positive side (89%+9%) the model predicts a positive sentiment overall. Which we agree with intuitively based on the text."
   ]
  },
  {
   "cell_type": "markdown",
   "metadata": {},
   "source": [
    "Now we have a trained model and we can make predictions. We can use this model to track the sentiments of various stocks by predicting the sentiments of twits as they are coming in. Now we have a stream of twits. For each of those twits, pull out the stocks mentioned in them and keep track of the sentiments. Remember that in the twits, ticker symbols are encoded with a dollar sign as the first character, all caps, and 2-4 letters, like $AAPL. Ideally, you'd want to track the sentiments of the stocks in your universe and use this as a signal in your larger model(s).\n",
    "\n",
    "## Testing\n",
    "### Load the Data "
   ]
  },
  {
   "cell_type": "code",
   "execution_count": 32,
   "metadata": {},
   "outputs": [],
   "source": [
    "with open(os.path.join('..', '..', 'data', 'project_6_stocktwits', 'test_twits.json'), 'r') as f:\n",
    "    test_data = json.load(f)"
   ]
  },
  {
   "cell_type": "markdown",
   "metadata": {},
   "source": [
    "### Twit Stream"
   ]
  },
  {
   "cell_type": "code",
   "execution_count": 33,
   "metadata": {},
   "outputs": [
    {
     "data": {
      "text/plain": [
       "{'message_body': '$JWN has moved -1.69% on 10-31. Check out the movement and peers at  https://dividendbot.com?s=JWN',\n",
       " 'timestamp': '2018-11-01T00:00:05Z'}"
      ]
     },
     "execution_count": 33,
     "metadata": {},
     "output_type": "execute_result"
    }
   ],
   "source": [
    "def twit_stream():\n",
    "    for twit in test_data['data']:\n",
    "        yield twit\n",
    "\n",
    "next(twit_stream())"
   ]
  },
  {
   "cell_type": "markdown",
   "metadata": {},
   "source": [
    "Using the `prediction` function, let's apply it to a stream of twits."
   ]
  },
  {
   "cell_type": "code",
   "execution_count": 34,
   "metadata": {},
   "outputs": [],
   "source": [
    "def score_twits(stream, model, vocab, universe):\n",
    "    \"\"\" \n",
    "    Given a stream of twits and a universe of tickers, return sentiment scores for tickers in the universe.\n",
    "    \"\"\"\n",
    "    for twit in stream:\n",
    "\n",
    "        # Get the message text\n",
    "        text = twit['message_body']\n",
    "        symbols = re.findall('\\$[A-Z]{2,4}', text)\n",
    "        score = predict(text, model, vocab)\n",
    "\n",
    "        for symbol in symbols:\n",
    "            if symbol in universe:\n",
    "                yield {'symbol': symbol, 'score': score, 'timestamp': twit['timestamp']}"
   ]
  },
  {
   "cell_type": "code",
   "execution_count": 35,
   "metadata": {},
   "outputs": [
    {
     "name": "stderr",
     "output_type": "stream",
     "text": [
      "/opt/conda/lib/python3.6/site-packages/ipykernel_launcher.py:89: UserWarning: Implicit dimension choice for log_softmax has been deprecated. Change the call to include dim=X as an argument.\n"
     ]
    },
    {
     "data": {
      "text/plain": [
       "{'symbol': '$AAPL',\n",
       " 'score': tensor([[ 0.0177,  0.1023,  0.2925,  0.2346,  0.3529]]),\n",
       " 'timestamp': '2018-11-01T00:00:18Z'}"
      ]
     },
     "execution_count": 35,
     "metadata": {},
     "output_type": "execute_result"
    }
   ],
   "source": [
    "universe = {'$BBRY', '$AAPL', '$AMZN', '$BABA', '$YHOO', '$LQMT', '$FB', '$GOOG', '$BBBY', '$JNUG', '$SBUX', '$MU'}\n",
    "score_stream = score_twits(twit_stream(), model, vocab, universe)\n",
    "\n",
    "next(score_stream)"
   ]
  },
  {
   "cell_type": "markdown",
   "metadata": {},
   "source": [
    "That's it. You have successfully built a model for sentiment analysis! "
   ]
  },
  {
   "cell_type": "markdown",
   "metadata": {},
   "source": [
    "## Submission\n",
    "Now that you're done with the project, it's time to submit it. Click the submit button in the bottom right. One of our reviewers will give you feedback on your project with a pass or not passed grade. You can continue to the next section while you wait for feedback."
   ]
  }
 ],
 "metadata": {
  "kernelspec": {
   "display_name": "Python 3",
   "language": "python",
   "name": "python3"
  },
  "language_info": {
   "codemirror_mode": {
    "name": "ipython",
    "version": 3
   },
   "file_extension": ".py",
   "mimetype": "text/x-python",
   "name": "python",
   "nbconvert_exporter": "python",
   "pygments_lexer": "ipython3",
   "version": "3.6.3"
  }
 },
 "nbformat": 4,
 "nbformat_minor": 2
}
